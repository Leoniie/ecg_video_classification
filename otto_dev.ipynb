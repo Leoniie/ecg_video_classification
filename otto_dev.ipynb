{
 "cells": [
  {
   "cell_type": "code",
   "execution_count": 2,
   "metadata": {
    "collapsed": false
   },
   "outputs": [],
   "source": [
    "from scipy import ndimage, misc\n",
    "import matplotlib.pyplot as plt\n",
    "import numpy as np\n",
    "\n",
    "x_train = np.load('data/numpy/x_train_raw.npy')"
   ]
  },
  {
   "cell_type": "code",
   "execution_count": 86,
   "metadata": {
    "collapsed": false
   },
   "outputs": [],
   "source": [
    "import matplotlib.pyplot as plt\n",
    "import cv2\n",
    "\n",
    "\n",
    "def edge_detect(_img, tresh_min, tresh_max):\n",
    "    fig = plt.figure()\n",
    "\n",
    "    ax1 = fig.add_subplot(221)  # left side\n",
    "    ax2 = fig.add_subplot(222)  # right side\n",
    "    ax3 = fig.add_subplot(223)  # right side\n",
    "    ax4 = fig.add_subplot(224)  # right side\n",
    "    _img = cv2.convertScaleAbs(_img)\n",
    "    ax1.imshow(_img)\n",
    "    _img = cv2.medianBlur(_img,1)\n",
    "    _img = cv2.GaussianBlur(_img,(5,5),0)\n",
    "    _img = cv2.GaussianBlur(_img,(7,7),0)\n",
    "    _img = cv2.GaussianBlur(_img,(9,9),0)\n",
    "    \n",
    "    (thresh, im_bw) = cv2.threshold(_img, tresh_min, tresh_max, 1)\n",
    "    ax2.imshow(_img)\n",
    "    im2, contours, hierarchy = cv2.findContours(im_bw, cv2.RETR_TREE, cv2.CHAIN_APPROX_SIMPLE)\n",
    "    _img =cv2.drawContours(_img, contours, -1, 255, 1)\n",
    "    ax3.imshow(_img)\n",
    "    \n",
    "    hull = []\n",
    " \n",
    "    # calculate points for each contour\n",
    "    for i in range(len(contours)):\n",
    "        # creating convex hull object for each contour\n",
    "        hull.append(cv2.convexHull(contours[i], True))\n",
    "            \n",
    "    # create an empty black image\n",
    "    drawing = np.zeros((_img.shape[0], _img.shape[1]), np.uint8)\n",
    "     \n",
    "    # draw contours and hull points\n",
    "    for i in range(len(contours)):\n",
    "        color_contours = 255# green - color for contours\n",
    "        color = 100 # blue - color for convex hull\n",
    "        # draw ith contour\n",
    "        _img = cv2.drawContours(drawing, contours, i, color_contours, 1, 8, hierarchy)\n",
    "        # draw ith convex hull object\n",
    "        _img = cv2.drawContours(_img, hull, i, color, 1, 8)\n",
    "        \n",
    "    ax4.imshow(_img)\n",
    "    plt.show()\n",
    "img = x_train[1,20,:,:,0]\n",
    "edge_detect(img,10, 1)"
   ]
  },
  {
   "cell_type": "code",
   "execution_count": 85,
   "metadata": {
    "collapsed": true
   },
   "outputs": [],
   "source": [
    ""
   ]
  },
  {
   "cell_type": "code",
   "execution_count": 16,
   "metadata": {},
   "outputs": [],
   "source": [
    "import cv2\n",
    "def canny_filter(df):\n",
    "    df = df.astype(np.uint8)\n",
    "    for i in range(df.shape[0]):\n",
    "        for j in range(df.shape[1]):\n",
    "            edges = cv2.Canny(df[i, j, :, :, :], 50, 50)\n",
    "            df[i, j, :, :, 0] = edges\n",
    "\n",
    "    return df\n",
    "\n",
    "imgs = canny_filter(df=x_train)\n",
    "plt.imshow(imgs[4,3,:,:,0])\n",
    "plt.show()"
   ]
  },
  {
   "cell_type": "code",
   "execution_count": 102,
   "metadata": {},
   "outputs": [],
   "source": [
    "plt.show()"
   ]
  },
  {
   "cell_type": "code",
   "execution_count": 3,
   "metadata": {},
   "outputs": [],
   "source": [
    "from scipy import ndimage, misc\n",
    "import matplotlib.pyplot as plt\n",
    "import numpy as np\n",
    "\n",
    "x_train = np.load('data/numpy/x_train.npy')"
   ]
  },
  {
   "cell_type": "code",
   "execution_count": 127,
   "metadata": {},
   "outputs": [
    {
     "name": "stdout",
     "output_type": "stream",
     "text": [
      "22\n(1, 100, 100, 1)\n(1, 100, 100, 1)\n(1, 100, 100, 1)\n(1, 100, 100, 1)\n(1, 100, 100, 1)\n(1, 100, 100, 1)\n(1, 100, 100, 1)\n(1, 100, 100, 1)\n(1, 100, 100, 1)\n(1, 100, 100, 1)\n(1, 100, 100, 1)\n(1, 100, 100, 1)\n(1, 100, 100, 1)\n(1, 100, 100, 1)\n(1, 100, 100, 1)\n(1, 100, 100, 1)\n(1, 100, 100, 1)\n(1, 100, 100, 1)\n(1, 100, 100, 1)\n(1, 100, 100, 1)\n(1, 100, 100, 1)\n(1, 100, 100, 1)\n"
     ]
    }
   ],
   "source": [
    "import numpy as np\n",
    "import matplotlib.pyplot as plt\n",
    "import cv2\n",
    "import skvideo\n",
    "from skvideo.io import FFmpegWriter\n",
    "\n",
    "def edge_detect(_img, tresh_min, tresh_max):\n",
    "    #fig = plt.figure()\n",
    "\n",
    "    #ax1 = fig.add_subplot(221)  # left side\n",
    "    #ax2 = fig.add_subplot(222)  # right side\n",
    "    #ax3 = fig.add_subplot(223)  # right side\n",
    "    #ax4 = fig.add_subplot(224)  # right side\n",
    "    _img = cv2.convertScaleAbs(_img)\n",
    "    #ax1.imshow(_img)\n",
    "    _img = cv2.medianBlur(_img,1)\n",
    "    _img = cv2.GaussianBlur(_img,(5,5),0)\n",
    "    _img = cv2.GaussianBlur(_img,(7,7),0)\n",
    "    _img = cv2.GaussianBlur(_img,(9,9),0)\n",
    "    \n",
    "    (thresh, im_bw) = cv2.threshold(_img, tresh_min, tresh_max, 1)\n",
    "    #ax2.imshow(_img)\n",
    "    im2, contours, hierarchy = cv2.findContours(im_bw, cv2.RETR_TREE, cv2.CHAIN_APPROX_SIMPLE)\n",
    "    _img =cv2.drawContours(_img, contours, -1, 255, 1)\n",
    "    #ax3.imshow(_img)\n",
    "    \n",
    "    hull = []\n",
    " \n",
    "    # calculate points for each contour\n",
    "    for i in range(len(contours)):\n",
    "        # creating convex hull object for each contour\n",
    "        hull.append(cv2.convexHull(contours[i], True))\n",
    "            \n",
    "    # create an empty black image\n",
    "    drawing = np.zeros((_img.shape[0], _img.shape[1]), np.uint8)\n",
    "     \n",
    "    # draw contours and hull points\n",
    "    for i in range(len(contours)):\n",
    "        color_contours = 255# green - color for contours\n",
    "        color = 100 # blue - color for convex hull\n",
    "        # draw ith contour\n",
    "        _img = cv2.drawContours(drawing, contours, i, color_contours, 1, 8, hierarchy)\n",
    "        # draw ith convex hull object\n",
    "    #    _img = cv2.drawContours(_img, hull, i, color, 1, 8)   \n",
    "    #ax4.imshow(_img)\n",
    "    #plt.show()\n",
    "    \n",
    "    return _img\n",
    "\n",
    "img = x_train[1]\n",
    "\n",
    "print(img.shape[0])\n",
    "final_img = np.empty(img.shape)\n",
    "for i in np.arange(img.shape[0]):\n",
    "\n",
    "    edge = edge_detect(img[i,:,:,0],10, 1)\n",
    "    # Write the frame into the file 'output.avi'\n",
    "    edge = np.resize(edge, (100, 100, 1))\n",
    "    edge = edge[np.newaxis,:,:,:]\n",
    "    final_img[i,2:98,2:98,:]= edge[:,2:98,2:98,:]\n",
    "    print(edge.shape)\n",
    "    \n",
    " \n",
    "skvideo.io.vwrite(\"outputvideo.avi\",final_img)"
   ]
  },
  {
   "cell_type": "code",
   "execution_count": 2,
   "metadata": {},
   "outputs": [
    {
     "ename": "NameError",
     "evalue": "name 'ascent' is not defined",
     "traceback": [
      "\u001b[0;31m---------------------------------------------------------------------------\u001b[0m",
      "\u001b[0;31mNameError\u001b[0m                                 Traceback (most recent call last)",
      "\u001b[0;32m<ipython-input-2-3c1273259e29>\u001b[0m in \u001b[0;36m<module>\u001b[0;34m()\u001b[0m\n\u001b[1;32m      4\u001b[0m \u001b[0max1\u001b[0m \u001b[0;34m=\u001b[0m \u001b[0mfig\u001b[0m\u001b[0;34m.\u001b[0m\u001b[0madd_subplot\u001b[0m\u001b[0;34m(\u001b[0m\u001b[0;36m121\u001b[0m\u001b[0;34m)\u001b[0m  \u001b[0;31m# left side\u001b[0m\u001b[0;34m\u001b[0m\u001b[0m\n\u001b[1;32m      5\u001b[0m \u001b[0max2\u001b[0m \u001b[0;34m=\u001b[0m \u001b[0mfig\u001b[0m\u001b[0;34m.\u001b[0m\u001b[0madd_subplot\u001b[0m\u001b[0;34m(\u001b[0m\u001b[0;36m122\u001b[0m\u001b[0;34m)\u001b[0m  \u001b[0;31m# right side\u001b[0m\u001b[0;34m\u001b[0m\u001b[0m\n\u001b[0;32m----> 6\u001b[0;31m \u001b[0max1\u001b[0m\u001b[0;34m.\u001b[0m\u001b[0mimshow\u001b[0m\u001b[0;34m(\u001b[0m\u001b[0mascent\u001b[0m\u001b[0;34m[\u001b[0m\u001b[0;36m5\u001b[0m\u001b[0;34m,\u001b[0m\u001b[0;36m21\u001b[0m\u001b[0;34m,\u001b[0m\u001b[0;34m:\u001b[0m\u001b[0;34m,\u001b[0m\u001b[0;34m:\u001b[0m\u001b[0;34m,\u001b[0m\u001b[0;36m0\u001b[0m\u001b[0;34m]\u001b[0m\u001b[0;34m)\u001b[0m\u001b[0;34m\u001b[0m\u001b[0m\n\u001b[0m\u001b[1;32m      7\u001b[0m \u001b[0max2\u001b[0m\u001b[0;34m.\u001b[0m\u001b[0mimshow\u001b[0m\u001b[0;34m(\u001b[0m\u001b[0mresult\u001b[0m\u001b[0;34m[\u001b[0m\u001b[0;36m5\u001b[0m\u001b[0;34m,\u001b[0m\u001b[0;36m21\u001b[0m\u001b[0;34m,\u001b[0m\u001b[0;34m:\u001b[0m\u001b[0;34m,\u001b[0m\u001b[0;34m:\u001b[0m\u001b[0;34m,\u001b[0m\u001b[0;36m0\u001b[0m\u001b[0;34m]\u001b[0m\u001b[0;34m)\u001b[0m\u001b[0;34m\u001b[0m\u001b[0m\n\u001b[1;32m      8\u001b[0m \u001b[0mplt\u001b[0m\u001b[0;34m.\u001b[0m\u001b[0mshow\u001b[0m\u001b[0;34m(\u001b[0m\u001b[0;34m)\u001b[0m\u001b[0;34m\u001b[0m\u001b[0m\n",
      "\u001b[0;31mNameError\u001b[0m: name 'ascent' is not defined"
     ],
     "output_type": "error"
    }
   ],
   "source": [
    "import matplotlib.pyplot as plt\n",
    "fig = plt.figure()\n",
    "plt.gray()  # show the filtered result in grayscale\n",
    "ax1 = fig.add_subplot(121)  # left side\n",
    "ax2 = fig.add_subplot(122)  # right side\n",
    "ax1.imshow(ascent[5,21,:,:,0])\n",
    "ax2.imshow(result[5,21,:,:,0])\n",
    "plt.show()"
   ]
  },
  {
   "cell_type": "code",
   "execution_count": 5,
   "metadata": {},
   "outputs": [
    {
     "ename": "error",
     "evalue": "OpenCV(3.4.4) C:\\projects\\opencv-python\\opencv\\modules\\imgproc\\src\\canny.cpp:947: error: (-215:Assertion failed) _src.depth() == CV_8U in function 'cv::Canny'\n",
     "traceback": [
      "\u001b[0;31m---------------------------------------------------------------------------\u001b[0m",
      "\u001b[0;31merror\u001b[0m                                     Traceback (most recent call last)",
      "\u001b[0;32m<ipython-input-5-d65f278f6d87>\u001b[0m in \u001b[0;36m<module>\u001b[0;34m()\u001b[0m\n\u001b[1;32m      3\u001b[0m \u001b[0;32mfrom\u001b[0m \u001b[0mmatplotlib\u001b[0m \u001b[0;32mimport\u001b[0m \u001b[0mpyplot\u001b[0m \u001b[0;32mas\u001b[0m \u001b[0mplt\u001b[0m\u001b[0;34m\u001b[0m\u001b[0m\n\u001b[1;32m      4\u001b[0m \u001b[0mascent\u001b[0m \u001b[0;34m=\u001b[0m \u001b[0mx_train\u001b[0m\u001b[0;34m[\u001b[0m\u001b[0;34m:\u001b[0m\u001b[0;34m,\u001b[0m\u001b[0;34m:\u001b[0m\u001b[0;34m,\u001b[0m\u001b[0;34m:\u001b[0m\u001b[0;34m,\u001b[0m\u001b[0;34m:\u001b[0m\u001b[0;34m,\u001b[0m\u001b[0;34m:\u001b[0m\u001b[0;34m]\u001b[0m\u001b[0;34m\u001b[0m\u001b[0m\n\u001b[0;32m----> 5\u001b[0;31m \u001b[0medges\u001b[0m \u001b[0;34m=\u001b[0m \u001b[0mcv2\u001b[0m\u001b[0;34m.\u001b[0m\u001b[0mCanny\u001b[0m\u001b[0;34m(\u001b[0m\u001b[0mascent\u001b[0m\u001b[0;34m[\u001b[0m\u001b[0;36m5\u001b[0m\u001b[0;34m,\u001b[0m\u001b[0;36m21\u001b[0m\u001b[0;34m,\u001b[0m\u001b[0;34m:\u001b[0m\u001b[0;34m,\u001b[0m\u001b[0;34m:\u001b[0m\u001b[0;34m,\u001b[0m\u001b[0;36m0\u001b[0m\u001b[0;34m]\u001b[0m\u001b[0;34m,\u001b[0m\u001b[0;36m100\u001b[0m\u001b[0;34m,\u001b[0m\u001b[0;36m100\u001b[0m\u001b[0;34m)\u001b[0m\u001b[0;34m\u001b[0m\u001b[0m\n\u001b[0m\u001b[1;32m      6\u001b[0m \u001b[0;34m\u001b[0m\u001b[0m\n\u001b[1;32m      7\u001b[0m \u001b[0mplt\u001b[0m\u001b[0;34m.\u001b[0m\u001b[0msubplot\u001b[0m\u001b[0;34m(\u001b[0m\u001b[0;36m121\u001b[0m\u001b[0;34m)\u001b[0m\u001b[0;34m,\u001b[0m\u001b[0mplt\u001b[0m\u001b[0;34m.\u001b[0m\u001b[0mimshow\u001b[0m\u001b[0;34m(\u001b[0m\u001b[0mascent\u001b[0m\u001b[0;34m[\u001b[0m\u001b[0;36m5\u001b[0m\u001b[0;34m,\u001b[0m\u001b[0;36m21\u001b[0m\u001b[0;34m,\u001b[0m\u001b[0;34m:\u001b[0m\u001b[0;34m,\u001b[0m\u001b[0;34m:\u001b[0m\u001b[0;34m,\u001b[0m\u001b[0;36m0\u001b[0m\u001b[0;34m]\u001b[0m\u001b[0;34m,\u001b[0m\u001b[0mcmap\u001b[0m \u001b[0;34m=\u001b[0m \u001b[0;34m'gray'\u001b[0m\u001b[0;34m)\u001b[0m\u001b[0;34m\u001b[0m\u001b[0m\n",
      "\u001b[0;31merror\u001b[0m: OpenCV(3.4.4) C:\\projects\\opencv-python\\opencv\\modules\\imgproc\\src\\canny.cpp:947: error: (-215:Assertion failed) _src.depth() == CV_8U in function 'cv::Canny'\n"
     ],
     "output_type": "error"
    }
   ],
   "source": [
    "import cv2\n",
    "import numpy as np\n",
    "from matplotlib import pyplot as plt\n",
    "ascent = x_train[:,:,:,:,:]\n",
    "edges = cv2.Canny(ascent[5,21,:,:,0],100,100)\n",
    "\n",
    "plt.subplot(121),plt.imshow(ascent[5,21,:,:,0],cmap = 'gray')\n",
    "plt.title('Original Image'), plt.xticks([]), plt.yticks([])\n",
    "plt.subplot(122),plt.imshow(edges,cmap = 'gray')\n",
    "plt.title('Edge Image'), plt.xticks([]), plt.yticks([])\n",
    "\n",
    "plt.show()"
   ]
  },
  {
   "cell_type": "code",
   "execution_count": 9,
   "metadata": {},
   "outputs": [],
   "source": [
    "from skimage import feature\n",
    "import numpy as np\n",
    "import matplotlib.pyplot as plt\n",
    "from scipy import ndimage as ndi\n",
    "im = ascent[6,29,:,:,0]\n",
    "edges1 = feature.canny(im)\n",
    "edges2 = feature.canny(im, sigma=3)\n",
    "\n",
    "\n",
    "fig, (ax1, ax2, ax3) = plt.subplots(nrows=1, ncols=3, figsize=(8, 3),\n",
    "                                    sharex=True, sharey=True)\n",
    "\n",
    "ax1.imshow(im, cmap=plt.cm.gray)\n",
    "ax1.axis('off')\n",
    "ax1.set_title('noisy image', fontsize=20)\n",
    "\n",
    "ax2.imshow(edges1, cmap=plt.cm.gray)\n",
    "ax2.axis('off')\n",
    "ax2.set_title('Canny filter, $\\sigma=1$', fontsize=20)\n",
    "\n",
    "ax3.imshow(edges2, cmap=plt.cm.gray)\n",
    "ax3.axis('off')\n",
    "ax3.set_title('Canny filter, $\\sigma=3$', fontsize=20)\n",
    "\n",
    "fig.tight_layout()\n",
    "plt.show()"
   ]
  }
 ],
 "metadata": {
  "kernelspec": {
   "display_name": "Python 2",
   "language": "python",
   "name": "python2"
  },
  "language_info": {
   "codemirror_mode": {
    "name": "ipython",
    "version": 2
   },
   "file_extension": ".py",
   "mimetype": "text/x-python",
   "name": "python",
   "nbconvert_exporter": "python",
   "pygments_lexer": "ipython2",
   "version": "2.7.6"
  }
 },
 "nbformat": 4,
 "nbformat_minor": 0
}
